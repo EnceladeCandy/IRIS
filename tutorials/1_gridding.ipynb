{
 "cells": [
  {
   "cell_type": "markdown",
   "metadata": {},
   "source": [
    "# Visibility Gridding\n",
    "\n",
    "For this first tutorial, I'll show how to access a CASA Measurement Set and how to grid the visibilities. I'll use the RULup protoplanetary disk for the example in this notebook, but the same approach can be applied for any protoplanetary disk of the DSHARP survey.  \n",
    "\n",
    "\n",
    "### Accessing data in Measurement Set\n",
    "Our first step will be to get the visibilities and their $uv$ coordinates in the Measurement Set. Let's first download the Measurement set from the [DSHARP data release](https://almascience.eso.org/almadata/lp/DSHARP/). For clarity, we can create a directory to store the data from this notebook. "
   ]
  },
  {
   "cell_type": "code",
   "execution_count": 1,
   "metadata": {},
   "outputs": [
    {
     "name": "stdout",
     "output_type": "stream",
     "text": [
      "Requirement already satisfied: wget in c:\\users\\noedi\\desktop\\ciela\\projects\\bayesian_imaging_radio\\code\\public_code\\.venv\\lib\\site-packages (3.2)\n"
     ]
    }
   ],
   "source": [
    "!pip install wget"
   ]
  },
  {
   "cell_type": "code",
   "execution_count": 2,
   "metadata": {},
   "outputs": [],
   "source": [
    "import wget\n",
    "import tarfile\n",
    "import os\n",
    "\n",
    "# RULup measurement set url\n",
    "url = \"https://almascience.eso.org/almadata/lp/DSHARP/MSfiles/RULup_continuum.ms.tgz\"\n",
    "\n",
    "# Creating data folder\n",
    "data_folder = \"data\" # or wherever you want\n",
    "os.makedirs(data_folder, exist_ok=True)\n",
    "fname = os.path.join(data_folder, \"RULup_continuum.ms.tgz\")\n",
    "wget.download(url, fname)\n",
    "\n",
    "# Extracting the tar file\n",
    "with tarfile.open(fname) as f:\n",
    "    f.extractall(path=data_folder) "
   ]
  },
  {
   "cell_type": "markdown",
   "metadata": {},
   "source": [
    "Once the data downloaded, we can access the data using the packages `casatasks` and `visread` packages (you will need a virtual environment running under Python 3.8.10). For continuum imaging, we combine visibility measurements from all spectral windows. This can be done as follows "
   ]
  },
  {
   "cell_type": "code",
   "execution_count": 2,
   "metadata": {},
   "outputs": [
    {
     "name": "stderr",
     "output_type": "stream",
     "text": [
      "ERROR: Could not find a version that satisfies the requirement casatools (from versions: none)\n",
      "ERROR: No matching distribution found for casatools\n"
     ]
    }
   ],
   "source": [
    "!pip install casatools"
   ]
  },
  {
   "cell_type": "code",
   "execution_count": 3,
   "metadata": {},
   "outputs": [
    {
     "name": "stdout",
     "output_type": "stream",
     "text": [
      "Collecting casatasks\n",
      "  Using cached casatasks-6.6.5.31-py3-none-any.whl.metadata (685 bytes)\n",
      "INFO: pip is looking at multiple versions of casatasks to determine which version is compatible with other requirements. This could take a while.\n",
      "  Using cached casatasks-6.6.4.34-py3-none-any.whl.metadata (664 bytes)\n",
      "  Using cached casatasks-6.6.3.22-py3-none-any.whl.metadata (664 bytes)\n",
      "  Using cached casatasks-6.6.0.20-py3-none-any.whl.metadata (664 bytes)\n",
      "  Using cached casatasks-6.5.6.22-py3-none-any.whl.metadata (666 bytes)\n",
      "  Using cached casatasks-6.5.5.21-py3-none-any.whl.metadata (685 bytes)\n",
      "  Using cached casatasks-6.5.3.28-py3-none-any.whl.metadata (685 bytes)\n",
      "  Using cached casatasks-6.5.2.26-py3-none-any.whl.metadata (685 bytes)\n",
      "INFO: pip is still looking at multiple versions of casatasks to determine which version is compatible with other requirements. This could take a while.\n",
      "  Using cached casatasks-6.5.1.23-py3-none-any.whl.metadata (685 bytes)\n",
      "  Using cached casatasks-6.5.0.15-py3-none-any.whl.metadata (685 bytes)\n",
      "  Using cached casatasks-6.4.4.31-py3-none-any.whl.metadata (685 bytes)\n",
      "  Using cached casatasks-6.4.3.27-py3-none-any.whl.metadata (685 bytes)\n",
      "  Using cached casatasks-6.4.0.16-py3-none-any.whl.metadata (662 bytes)\n",
      "INFO: This is taking longer than usual. You might need to provide the dependency resolver with stricter constraints to reduce runtime. See https://pip.pypa.io/warnings/backtracking for guidance. If you want to abort this run, press Ctrl + C.\n",
      "  Using cached casatasks-6.3.0.48-py3-none-any.whl.metadata (662 bytes)\n",
      "  Using cached casatasks-6.2.1.7-py3-none-any.whl.metadata (660 bytes)\n",
      "  Using cached casatasks-6.2.0.124-py3-none-any.whl.metadata (664 bytes)\n",
      "  Using cached casatasks-6.0.0.27-py3-none-any.whl.metadata (621 bytes)\n",
      "\n",
      "The conflict is caused by:\n",
      "    casatasks 6.6.5.31 depends on casatools==6.6.5.31\n",
      "    casatasks 6.6.4.34 depends on casatools==6.6.4.34\n",
      "    casatasks 6.6.3.22 depends on casatools==6.6.3.22\n",
      "    casatasks 6.6.0.20 depends on casatools==6.6.0.20\n",
      "    casatasks 6.5.6.22 depends on casatools==6.5.6.22\n",
      "    casatasks 6.5.5.21 depends on casatools==6.5.5.21\n",
      "    casatasks 6.5.3.28 depends on casatools==6.5.3.28\n",
      "    casatasks 6.5.2.26 depends on casatools==6.5.2.26\n",
      "    casatasks 6.5.1.23 depends on casatools==6.5.1.23\n",
      "    casatasks 6.5.0.15 depends on casatools==6.5.0.15\n",
      "    casatasks 6.4.4.31 depends on casatools==6.4.4.31\n",
      "    casatasks 6.4.3.27 depends on casatools==6.4.3.27\n",
      "    casatasks 6.4.0.16 depends on casatools==6.4.0.16\n",
      "    casatasks 6.3.0.48 depends on casatools==6.3.0.48\n",
      "    casatasks 6.2.1.7 depends on casatools==6.2.1.7\n",
      "    casatasks 6.2.0.124 depends on casatools==6.2.0.124\n",
      "    casatasks 6.0.0.27 depends on casatools==6.0.0.27\n",
      "\n",
      "To fix this you could try to:\n",
      "1. loosen the range of package versions you've specified\n",
      "2. remove package versions to allow pip to attempt to solve the dependency conflict\n",
      "\n"
     ]
    },
    {
     "name": "stderr",
     "output_type": "stream",
     "text": [
      "ERROR: Cannot install casatasks==6.0.0.27, casatasks==6.2.0.124, casatasks==6.2.1.7, casatasks==6.3.0.48, casatasks==6.4.0.16, casatasks==6.4.3.27, casatasks==6.4.4.31, casatasks==6.5.0.15, casatasks==6.5.1.23, casatasks==6.5.2.26, casatasks==6.5.3.28, casatasks==6.5.5.21, casatasks==6.5.6.22, casatasks==6.6.0.20, casatasks==6.6.3.22, casatasks==6.6.4.34 and casatasks==6.6.5.31 because these package versions have conflicting dependencies.\n",
      "ERROR: ResolutionImpossible: for help visit https://pip.pypa.io/en/latest/topics/dependency-resolution/#dealing-with-dependency-conflicts\n"
     ]
    }
   ],
   "source": [
    "!pip install casatasks"
   ]
  },
  {
   "cell_type": "code",
   "execution_count": 4,
   "metadata": {},
   "outputs": [
    {
     "name": "stdout",
     "output_type": "stream",
     "text": [
      "Collecting visread\n",
      "  Using cached visread-0.0.5-py3-none-any.whl.metadata (2.7 kB)\n",
      "Collecting astropy (from visread)\n",
      "  Downloading astropy-5.2.2-cp38-cp38-win_amd64.whl.metadata (8.4 kB)\n",
      "Collecting numpy (from visread)\n",
      "  Downloading numpy-1.24.4-cp38-cp38-win_amd64.whl.metadata (5.6 kB)\n",
      "Collecting scipy (from visread)\n",
      "  Downloading scipy-1.10.1-cp38-cp38-win_amd64.whl.metadata (58 kB)\n",
      "Collecting pyerfa>=2.0 (from astropy->visread)\n",
      "  Downloading pyerfa-2.0.0.3-cp38-cp38-win_amd64.whl.metadata (5.7 kB)\n",
      "Collecting PyYAML>=3.13 (from astropy->visread)\n",
      "  Downloading PyYAML-6.0.2-cp38-cp38-win_amd64.whl.metadata (2.1 kB)\n",
      "Requirement already satisfied: packaging>=19.0 in c:\\users\\noedi\\desktop\\ciela\\projects\\bayesian_imaging_radio\\code\\public_code\\.venv\\lib\\site-packages (from astropy->visread) (24.2)\n",
      "Using cached visread-0.0.5-py3-none-any.whl (14 kB)\n",
      "Downloading astropy-5.2.2-cp38-cp38-win_amd64.whl (6.6 MB)\n",
      "   ---------------------------------------- 0.0/6.6 MB ? eta -:--:--\n",
      "   ----------------------------------- ---- 5.8/6.6 MB 27.1 MB/s eta 0:00:01\n",
      "   ---------------------------------------- 6.6/6.6 MB 23.8 MB/s eta 0:00:00\n",
      "Downloading numpy-1.24.4-cp38-cp38-win_amd64.whl (14.9 MB)\n",
      "   ---------------------------------------- 0.0/14.9 MB ? eta -:--:--\n",
      "   ------------------------------ --------- 11.3/14.9 MB 54.2 MB/s eta 0:00:01\n",
      "   ---------------------------------------- 14.9/14.9 MB 52.0 MB/s eta 0:00:00\n",
      "Downloading scipy-1.10.1-cp38-cp38-win_amd64.whl (42.2 MB)\n",
      "   ---------------------------------------- 0.0/42.2 MB ? eta -:--:--\n",
      "   ----------- ---------------------------- 11.8/42.2 MB 56.8 MB/s eta 0:00:01\n",
      "   --------------------- ------------------ 22.5/42.2 MB 54.7 MB/s eta 0:00:01\n",
      "   -------------------------------- ------- 34.3/42.2 MB 55.9 MB/s eta 0:00:01\n",
      "   ---------------------------------------  42.2/42.2 MB 54.8 MB/s eta 0:00:01\n",
      "   ---------------------------------------- 42.2/42.2 MB 49.7 MB/s eta 0:00:00\n",
      "Downloading pyerfa-2.0.0.3-cp38-cp38-win_amd64.whl (347 kB)\n",
      "Downloading PyYAML-6.0.2-cp38-cp38-win_amd64.whl (162 kB)\n",
      "Installing collected packages: PyYAML, numpy, scipy, pyerfa, astropy, visread\n",
      "Successfully installed PyYAML-6.0.2 astropy-5.2.2 numpy-1.24.4 pyerfa-2.0.0.3 scipy-1.10.1 visread-0.0.5\n"
     ]
    }
   ],
   "source": [
    "!pip install visread"
   ]
  },
  {
   "cell_type": "code",
   "execution_count": null,
   "metadata": {},
   "outputs": [],
   "source": []
  },
  {
   "cell_type": "code",
   "execution_count": null,
   "metadata": {},
   "outputs": [],
   "source": []
  },
  {
   "cell_type": "code",
   "execution_count": null,
   "metadata": {},
   "outputs": [],
   "source": []
  },
  {
   "cell_type": "code",
   "execution_count": null,
   "metadata": {},
   "outputs": [],
   "source": []
  },
  {
   "cell_type": "code",
   "execution_count": null,
   "metadata": {},
   "outputs": [],
   "source": []
  }
 ],
 "metadata": {
  "kernelspec": {
   "display_name": ".venv",
   "language": "python",
   "name": "python3"
  },
  "language_info": {
   "codemirror_mode": {
    "name": "ipython",
    "version": 3
   },
   "file_extension": ".py",
   "mimetype": "text/x-python",
   "name": "python",
   "nbconvert_exporter": "python",
   "pygments_lexer": "ipython3",
   "version": "3.8.10"
  }
 },
 "nbformat": 4,
 "nbformat_minor": 2
}
