{
 "cells": [
  {
   "cell_type": "markdown",
   "metadata": {},
   "source": [
    "# Zenodo data\n",
    "In this tutorial, we explain the general structure of the Zenodo dataset. \n",
    "\n",
    "We have two types of files: \n",
    "- score model (= neural network) weights\n",
    "- Posterior samples\n",
    "\n",
    "For posterior samples, the filename contains information about: \n",
    "- The disk whose surface brightness has been inferred.\n",
    "- The score model used (either `ve_probes`, `vp_probes` or `vp_skirt`). \n",
    "- The sampler used for the inference (either `euler` or `pc`)\n",
    "\n",
    "The files with the disk name contains all the information needed to reproduce the results using the approach in the tutorial 2, including: \n",
    "- The observation (sampled visibilities),\n",
    "- The noise estimate,\n",
    "- The forward model parameters (sampling function, padding, primary beam, etc...)"
   ]
  },
  {
   "cell_type": "code",
   "execution_count": 2,
   "metadata": {},
   "outputs": [],
   "source": [
    "import wget\n",
    "import numpy as np \n",
    "import h5py\n",
    "import matplotlib.pyplot as plt"
   ]
  },
  {
   "cell_type": "code",
   "execution_count": null,
   "metadata": {},
   "outputs": [],
   "source": []
  }
 ],
 "metadata": {
  "kernelspec": {
   "display_name": ".venv",
   "language": "python",
   "name": "python3"
  },
  "language_info": {
   "codemirror_mode": {
    "name": "ipython",
    "version": 3
   },
   "file_extension": ".py",
   "mimetype": "text/x-python",
   "name": "python",
   "nbconvert_exporter": "python",
   "pygments_lexer": "ipython3",
   "version": "3.10.2"
  }
 },
 "nbformat": 4,
 "nbformat_minor": 2
}
